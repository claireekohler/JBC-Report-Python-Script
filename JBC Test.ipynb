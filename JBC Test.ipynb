{
 "cells": [
  {
   "cell_type": "code",
   "execution_count": 190,
   "id": "c9e62819-81f5-4a90-b7a7-44e1b2ed3e2f",
   "metadata": {},
   "outputs": [],
   "source": [
    "import pandas as pd\n",
    "import numpy as np"
   ]
  },
  {
   "cell_type": "code",
   "execution_count": 198,
   "id": "41b4195a-596e-4fc4-a560-2d9be01b5f6c",
   "metadata": {},
   "outputs": [],
   "source": [
    "df = pd.read_excel(r'/Users/claireekohler/Downloads/73461-PL_JBC_2024_11_15.xlsx')"
   ]
  },
  {
   "cell_type": "code",
   "execution_count": 200,
   "id": "76ecc3c4-ebc2-4e5b-b8a6-f0db58883494",
   "metadata": {
    "scrolled": true
   },
   "outputs": [
    {
     "name": "stdout",
     "output_type": "stream",
     "text": [
      "         Job Phase  Segment    Job-Ph-Seg  S/S Asgn Firm Asgn Div Task ID  \\\n",
      "0    73461.0    BL      1.0  73461-BL-001  1.0        HI       NW    E200   \n",
      "1    73461.0    BL      1.0  73461-BL-001  1.0        HI       NW    P300   \n",
      "2    73461.0    BL      1.0  73461-BL-001  1.0        HI       NW    P902   \n",
      "3    73461.0    BL      1.0  73461-BL-001  1.0        HI       HG    E200   \n",
      "4    73461.0    BL      1.0  73461-BL-001  1.0        HI       HG    P300   \n",
      "..       ...   ...      ...           ...  ...       ...      ...     ...   \n",
      "369  73461.0    PL     31.0  73461-PL-031  1.0        HI       NW    E999   \n",
      "370  73461.0    PL     31.0  73461-PL-031  1.0        HI       NW    T901   \n",
      "371  73461.0    PL     31.0  73461-PL-031  2.0        HI       NW    E005   \n",
      "372  73461.0    PL     31.0  73461-PL-031  3.0        HI       NW    C999   \n",
      "373      NaN   NaN      NaN           NaN  NaN       NaN      NaN     NaN   \n",
      "\n",
      "     Task Asgn Ofc S/S S/L  ...                   Segment Title  \\\n",
      "0              4.0      RL  ...  Marketing                        \n",
      "1              4.0      MA  ...  Marketing                        \n",
      "2              4.0      MA  ...  Marketing                        \n",
      "3             12.0      RL  ...  Marketing                        \n",
      "4             12.0      MA  ...  Marketing                        \n",
      "..             ...     ...  ...                             ...   \n",
      "369            4.0      RL  ...  TO 31 : Process Update & Repor   \n",
      "370            4.0      TR  ...  TO 31 : Process Update & Repor   \n",
      "371            4.0      RL  ...  TO 31 : Process Update & Repor   \n",
      "372            4.0      CS  ...  TO 31 : Process Update & Repor   \n",
      "373            NaN     NaN  ...                             NaN   \n",
      "\n",
      "                   Subsegment Title    Sub # Bud Fee Type  Primary Client  \\\n",
      "0    Marketing                           NaN          0.0   SOUND TRANSIT   \n",
      "1    Marketing                           NaN          0.0   SOUND TRANSIT   \n",
      "2    Marketing                           NaN          0.0   SOUND TRANSIT   \n",
      "3    Marketing                           NaN          0.0   SOUND TRANSIT   \n",
      "4    Marketing                           NaN          0.0   SOUND TRANSIT   \n",
      "..                              ...      ...          ...             ...   \n",
      "369  Task 1-Project Management           NaN          1.0   SOUND TRANSIT   \n",
      "370  Task 1-Project Management           NaN          1.0   SOUND TRANSIT   \n",
      "371  Subconsultants                  59253.0          1.0   SOUND TRANSIT   \n",
      "372  PM Contingency                      NaN          1.0   SOUND TRANSIT   \n",
      "373                             NaN      NaN          NaN             NaN   \n",
      "\n",
      "    Primary Client Loc Secondary Client Secondary Client Loc  \\\n",
      "0                  1.0               --                  ---   \n",
      "1                  1.0               --                  ---   \n",
      "2                  1.0               --                  ---   \n",
      "3                  1.0               --                  ---   \n",
      "4                  1.0               --                  ---   \n",
      "..                 ...              ...                  ...   \n",
      "369                1.0               --                  ---   \n",
      "370                1.0               --                  ---   \n",
      "371                1.0               --                  ---   \n",
      "372                1.0               --                  ---   \n",
      "373                NaN              NaN                  NaN   \n",
      "\n",
      "         Market Sector  HNTB Advantage  \n",
      "0    RAIL/TRANSIT-Muni               N  \n",
      "1    RAIL/TRANSIT-Muni               N  \n",
      "2    RAIL/TRANSIT-Muni               N  \n",
      "3    RAIL/TRANSIT-Muni               N  \n",
      "4    RAIL/TRANSIT-Muni               N  \n",
      "..                 ...             ...  \n",
      "369  RAIL/TRANSIT-Muni               N  \n",
      "370  RAIL/TRANSIT-Muni               N  \n",
      "371  RAIL/TRANSIT-Muni               N  \n",
      "372  RAIL/TRANSIT-Muni               N  \n",
      "373                NaN             NaN  \n",
      "\n",
      "[374 rows x 51 columns]\n"
     ]
    }
   ],
   "source": [
    "print(df)"
   ]
  },
  {
   "cell_type": "code",
   "execution_count": 202,
   "id": "e4c05bcd-e093-4314-ae6e-e9bcfc699f10",
   "metadata": {},
   "outputs": [
    {
     "name": "stdout",
     "output_type": "stream",
     "text": [
      "19\n"
     ]
    }
   ],
   "source": [
    "hours_index = df.columns.get_loc('Hours')\n",
    "print(hours_index)"
   ]
  },
  {
   "cell_type": "code",
   "execution_count": 204,
   "id": "b82f1d2f-f659-4539-add8-5d50cd43d0ce",
   "metadata": {},
   "outputs": [],
   "source": [
    "#Add 'Adjustment' and 'New Hours' Columns\n",
    "\n",
    "df.insert(hours_index + 1, 'Adjustment', 0)\n",
    "df.insert(hours_index + 2, 'New Hours',0)"
   ]
  },
  {
   "cell_type": "code",
   "execution_count": 206,
   "id": "e4481fae-fbc3-4bf5-b077-2439f8a1b22a",
   "metadata": {},
   "outputs": [
    {
     "name": "stdout",
     "output_type": "stream",
     "text": [
      "     Hours  Adjustment  New Hours\n",
      "0        0           0          0\n",
      "1       45           0          0\n",
      "2       10           0          0\n",
      "3        0           0          0\n",
      "4        5           0          0\n",
      "..     ...         ...        ...\n",
      "369      0           0          0\n",
      "370     88           0          0\n",
      "371      0           0          0\n",
      "372     84           0          0\n",
      "373   6950           0          0\n",
      "\n",
      "[374 rows x 3 columns]\n"
     ]
    }
   ],
   "source": [
    "#Check that the columns have been added\n",
    "print(df[['Hours','Adjustment','New Hours']])"
   ]
  },
  {
   "cell_type": "code",
   "execution_count": 208,
   "id": "7f28f498-8bfe-4d01-a73e-e917ff877013",
   "metadata": {},
   "outputs": [],
   "source": [
    "# Convert 'Job-Ph-Seg' and 'S/S' columns to string type\n",
    "df['Job-Ph-Seg'] = df['Job-Ph-Seg'].astype(str)\n",
    "df['S/S'] = df['S/S'].astype(str)"
   ]
  },
  {
   "cell_type": "code",
   "execution_count": 210,
   "id": "c8416dbd-064b-498a-b7c9-1f40ca42b9ee",
   "metadata": {},
   "outputs": [
    {
     "data": {
      "text/plain": [
       "Job                              float64\n",
       "Phase                             object\n",
       "Segment                          float64\n",
       "Job-Ph-Seg                        object\n",
       "S/S                               object\n",
       "Asgn Firm                         object\n",
       "Asgn Div                          object\n",
       "Task ID                           object\n",
       "Task Asgn Ofc                    float64\n",
       "S/S S/L                           object\n",
       "Task Assign Name                  object\n",
       "PM Name                           object\n",
       "Owning Firm                       object\n",
       "Owning Div                        object\n",
       "PM Ofc                           float64\n",
       "Task Status                       object\n",
       "Task Type                         object\n",
       "Task Description                  object\n",
       "Baseline ER                      float64\n",
       "Hours                              int64\n",
       "Adjustment                         int64\n",
       "New Hours                          int64\n",
       "Rate                             float64\n",
       "Base Cost                          int64\n",
       "Bud ER                           float64\n",
       "Loaded Budgeted Cost               int64\n",
       "Fixed Fee Cap                    float64\n",
       "MTD Hours                        float64\n",
       "MTD Costs                        float64\n",
       "YTD Hours                        float64\n",
       "YTD Costs                        float64\n",
       "JTD Hours                        float64\n",
       "JTD Rate                         float64\n",
       "JTD Costs                        float64\n",
       "Loaded JTD Costs                 float64\n",
       "Loaded Costs Remaining           float64\n",
       "% Hours                          float64\n",
       "% Costs                          float64\n",
       "Actual Remain Hours              float64\n",
       "Actual Remain Costs              float64\n",
       "Costs Last Posted         datetime64[ns]\n",
       "Last Updated Date         datetime64[ns]\n",
       "Job Title                         object\n",
       "Segment Title                     object\n",
       "Subsegment Title                  object\n",
       "Sub #                            float64\n",
       "Bud Fee Type                     float64\n",
       "Primary Client                    object\n",
       "Primary Client Loc               float64\n",
       "Secondary Client                  object\n",
       "Secondary Client Loc              object\n",
       "Market Sector                     object\n",
       "HNTB Advantage                    object\n",
       "dtype: object"
      ]
     },
     "execution_count": 210,
     "metadata": {},
     "output_type": "execute_result"
    }
   ],
   "source": [
    "df.dtypes"
   ]
  },
  {
   "cell_type": "code",
   "execution_count": 212,
   "id": "8bf4bdcb-6dd6-462b-a72b-2d8db8b89084",
   "metadata": {},
   "outputs": [],
   "source": [
    "#Function to add hours to 'Adjustment' and 'New Hours'\n",
    "\n",
    "#s/s cant be 999 or 997\n",
    "\n",
    "def cover_hours(df):\n",
    "    # Group the DataFrame by 'Job-Ph-Seg'\n",
    "    grouped = df.groupby('Job-Ph-Seg')\n",
    "\n",
    "    # Loop through each group\n",
    "    for name, group in grouped:\n",
    "        for idx, row in group.iterrows():\n",
    "            # Check if 'Job-Ph-Seg' contains 'PL' and 'S/S' does not contain '999'\n",
    "            if 'PL' in row['Job-Ph-Seg'] and '999' not in row['S/S']:\n",
    "                # Get the value of 'Actual Remain Hours'\n",
    "                actual_remaining_hours = row['Actual Remain Hours']\n",
    "                \n",
    "                # If 'Actual Remain Hours' is negative\n",
    "                if actual_remaining_hours < 0:\n",
    "                    # Calculate the adjustment as |Actual Remaining Hours| + 1\n",
    "                    X = abs(actual_remaining_hours) + 1\n",
    "                    \n",
    "                    # Set 'Adjustment' to X and update 'New Hours'\n",
    "                    df.at[idx, 'Adjustment'] = X\n",
    "                    df.at[idx, 'New Hours'] = row['Hours'] + X     \n",
    "    return df"
   ]
  },
  {
   "cell_type": "code",
   "execution_count": 214,
   "id": "87b1304b-8f16-48f6-acae-74526466133f",
   "metadata": {},
   "outputs": [],
   "source": [
    "#Function to balance hours\n",
    "\n",
    "def balance_hours(df):\n",
    "    #Group by 'Job-Ph-Seg' to handle each Ph-Seg independently\n",
    "    grouped = df.groupby('Job-Ph-Seg')\n",
    "\n",
    "    #Loop through each group\n",
    "    for name, group in grouped:\n",
    "        #Track sum of adjustments for current group\n",
    "        total_adjustments = group['Adjustment'].sum()\n",
    "        \n",
    "        #Loop through each row in current segment\n",
    "        for idx, row in group.iterrows():\n",
    "            if total_adjustments == 0:\n",
    "                break\n",
    "            #Consider rows only where adjusted\n",
    "            adjustment = row['Adjustment']\n",
    "            if adjustment > 0:\n",
    "            #Find rows in same segment with 'Actual Remain Hours' greater than 'Adjustment'\n",
    "                eligible_rows = group[(group['Actual Remain Hours'] > adjustment) & (group['Adjustment'] == 0)]\n",
    "                for target_idx in eligible_rows.index:\n",
    "                   target_remain_hours = df.at[target_idx, 'Actual Remain Hours']\n",
    "                   df.at[target_idx, 'Adjustment'] = -adjustment\n",
    "                   df.at[target_idx,'New Hours'] = df.at[target_idx, 'Hours'] - adjustment\n",
    "\n",
    "                total_adjustments -= adjustment\n",
    "\n",
    "                if total_adjustments == 0:\n",
    "                    break\n",
    "    return df\n"
   ]
  },
  {
   "cell_type": "code",
   "execution_count": 216,
   "id": "aee51824-b56a-463e-8358-d8a428bcfbb2",
   "metadata": {},
   "outputs": [],
   "source": [
    "#Add 'new loaded costs remaining' and 'net' columns\n",
    "\n",
    "loaded_costs_remain_index = df.columns.get_loc('Loaded Costs Remaining')\n",
    "\n",
    "#print(loaded_costs_remain_index)\n",
    "\n",
    "df.insert(loaded_costs_remain_index + 1, 'New Loaded Costs Remaining', 0)\n",
    "df.insert(loaded_costs_remain_index + 2, 'NET',0)\n"
   ]
  },
  {
   "cell_type": "code",
   "execution_count": 218,
   "id": "1017206c-66bd-4bc3-87d2-fdd290a47e80",
   "metadata": {},
   "outputs": [
    {
     "name": "stdout",
     "output_type": "stream",
     "text": [
      "36\n",
      "37\n"
     ]
    }
   ],
   "source": [
    "#Check that the columns have been added and are next to \"LCR'\n",
    "new_LCR_index = df.columns.get_loc('New Loaded Costs Remaining')\n",
    "NET_index = df.columns.get_loc('NET')\n",
    "\n",
    "print(new_LCR_index)\n",
    "print(NET_index)"
   ]
  },
  {
   "cell_type": "code",
   "execution_count": 220,
   "id": "ca797be5-ff89-4c1d-8a4d-bcc047253ee3",
   "metadata": {},
   "outputs": [],
   "source": [
    "#Function to calculate 'New Loaded Costs' Remaining and 'NET'\n",
    "\n",
    "#if 'new hours' isnt null,\n",
    "#insert into 'new loaded costs remaining' = (new hours*rate*budget ER)-loaded costs remaining\n",
    "#net = adjustment*rate*budgeted ER\n",
    "\n",
    "def new_loaded_costs(df):\n",
    "    # Group by 'Job-Ph-Seg' to handle each Ph-Seg independently\n",
    "    grouped = df.groupby('Job-Ph-Seg')\n",
    "\n",
    "    # Loop through each group\n",
    "    for name, group in grouped:\n",
    "        # Loop through each row in the current segment\n",
    "        for idx, row in group.iterrows():\n",
    "            # Consider only rows with a non-null 'Adjustment'\n",
    "            adjustment = row['Adjustment']\n",
    "            if adjustment != 0:\n",
    "                # Calculate 'New Loaded Costs Remaining'\n",
    "                df.at[idx, 'New Loaded Costs Remaining'] = (\n",
    "                    df.at[idx, 'New Hours'] * df.at[idx, 'Bud ER'] * df.at[idx, 'Rate']\n",
    "                    - df.at[idx, 'Loaded JTD Costs']\n",
    "                )\n",
    "                # Calculate 'NET'\n",
    "                df.at[idx, 'NET'] = (\n",
    "                    df.at[idx, 'Adjustment'] * df.at[idx, 'Bud ER'] * df.at[idx, 'Rate']\n",
    "                )\n",
    "\n",
    "    return df\n",
    "\n"
   ]
  },
  {
   "cell_type": "code",
   "execution_count": 222,
   "id": "1ea8f813-7db7-4e46-ae0b-0ac3d8fb0cfa",
   "metadata": {},
   "outputs": [
    {
     "data": {
      "text/plain": [
       "Job                                  float64\n",
       "Phase                                 object\n",
       "Segment                              float64\n",
       "Job-Ph-Seg                            object\n",
       "S/S                                   object\n",
       "Asgn Firm                             object\n",
       "Asgn Div                              object\n",
       "Task ID                               object\n",
       "Task Asgn Ofc                        float64\n",
       "S/S S/L                               object\n",
       "Task Assign Name                      object\n",
       "PM Name                               object\n",
       "Owning Firm                           object\n",
       "Owning Div                            object\n",
       "PM Ofc                               float64\n",
       "Task Status                           object\n",
       "Task Type                             object\n",
       "Task Description                      object\n",
       "Baseline ER                          float64\n",
       "Hours                                  int64\n",
       "Adjustment                             int64\n",
       "New Hours                              int64\n",
       "Rate                                 float64\n",
       "Base Cost                              int64\n",
       "Bud ER                               float64\n",
       "Loaded Budgeted Cost                   int64\n",
       "Fixed Fee Cap                        float64\n",
       "MTD Hours                            float64\n",
       "MTD Costs                            float64\n",
       "YTD Hours                            float64\n",
       "YTD Costs                            float64\n",
       "JTD Hours                            float64\n",
       "JTD Rate                             float64\n",
       "JTD Costs                            float64\n",
       "Loaded JTD Costs                     float64\n",
       "Loaded Costs Remaining               float64\n",
       "New Loaded Costs Remaining             int64\n",
       "NET                                    int64\n",
       "% Hours                              float64\n",
       "% Costs                              float64\n",
       "Actual Remain Hours                  float64\n",
       "Actual Remain Costs                  float64\n",
       "Costs Last Posted             datetime64[ns]\n",
       "Last Updated Date             datetime64[ns]\n",
       "Job Title                             object\n",
       "Segment Title                         object\n",
       "Subsegment Title                      object\n",
       "Sub #                                float64\n",
       "Bud Fee Type                         float64\n",
       "Primary Client                        object\n",
       "Primary Client Loc                   float64\n",
       "Secondary Client                      object\n",
       "Secondary Client Loc                  object\n",
       "Market Sector                         object\n",
       "HNTB Advantage                        object\n",
       "dtype: object"
      ]
     },
     "execution_count": 222,
     "metadata": {},
     "output_type": "execute_result"
    }
   ],
   "source": [
    "df.dtypes"
   ]
  },
  {
   "cell_type": "code",
   "execution_count": 224,
   "id": "5d2740cd-0548-40fa-b223-d862ecd82183",
   "metadata": {
    "scrolled": true
   },
   "outputs": [],
   "source": [
    "#Apply functions to dataframe and view output\n",
    "\n",
    "df = cover_hours(df)"
   ]
  },
  {
   "cell_type": "code",
   "execution_count": 226,
   "id": "60feea8c-2fb6-4c55-ba13-82beb0c67d33",
   "metadata": {},
   "outputs": [
    {
     "name": "stderr",
     "output_type": "stream",
     "text": [
      "/var/folders/mj/rcxzfd7n4lqg7cq1g15cy3mc0000gn/T/ipykernel_90559/1008790020.py:19: FutureWarning: Setting an item of incompatible dtype is deprecated and will raise in a future error of pandas. Value '2736.9771530816706' has dtype incompatible with int64, please explicitly cast to a compatible dtype first.\n",
      "  df.at[idx, 'New Loaded Costs Remaining'] = (\n",
      "/var/folders/mj/rcxzfd7n4lqg7cq1g15cy3mc0000gn/T/ipykernel_90559/1008790020.py:24: FutureWarning: Setting an item of incompatible dtype is deprecated and will raise in a future error of pandas. Value '1698.5737861145026' has dtype incompatible with int64, please explicitly cast to a compatible dtype first.\n",
      "  df.at[idx, 'NET'] = (\n"
     ]
    }
   ],
   "source": [
    "df = balance_hours(df)\n",
    "df = new_loaded_costs(df)"
   ]
  },
  {
   "cell_type": "code",
   "execution_count": 228,
   "id": "a7ae1bd8-5592-44eb-a91c-ef8f885aada4",
   "metadata": {},
   "outputs": [
    {
     "name": "stdout",
     "output_type": "stream",
     "text": [
      "         Job Phase  Segment    Job-Ph-Seg  S/S Asgn Firm Asgn Div Task ID  \\\n",
      "0    73461.0    BL      1.0  73461-BL-001  1.0        HI       NW    E200   \n",
      "1    73461.0    BL      1.0  73461-BL-001  1.0        HI       NW    P300   \n",
      "2    73461.0    BL      1.0  73461-BL-001  1.0        HI       NW    P902   \n",
      "3    73461.0    BL      1.0  73461-BL-001  1.0        HI       HG    E200   \n",
      "4    73461.0    BL      1.0  73461-BL-001  1.0        HI       HG    P300   \n",
      "..       ...   ...      ...           ...  ...       ...      ...     ...   \n",
      "369  73461.0    PL     31.0  73461-PL-031  1.0        HI       NW    E999   \n",
      "370  73461.0    PL     31.0  73461-PL-031  1.0        HI       NW    T901   \n",
      "371  73461.0    PL     31.0  73461-PL-031  2.0        HI       NW    E005   \n",
      "372  73461.0    PL     31.0  73461-PL-031  3.0        HI       NW    C999   \n",
      "373      NaN   NaN      NaN           nan  nan       NaN      NaN     NaN   \n",
      "\n",
      "     Task Asgn Ofc S/S S/L  ...                   Segment Title  \\\n",
      "0              4.0      RL  ...  Marketing                        \n",
      "1              4.0      MA  ...  Marketing                        \n",
      "2              4.0      MA  ...  Marketing                        \n",
      "3             12.0      RL  ...  Marketing                        \n",
      "4             12.0      MA  ...  Marketing                        \n",
      "..             ...     ...  ...                             ...   \n",
      "369            4.0      RL  ...  TO 31 : Process Update & Repor   \n",
      "370            4.0      TR  ...  TO 31 : Process Update & Repor   \n",
      "371            4.0      RL  ...  TO 31 : Process Update & Repor   \n",
      "372            4.0      CS  ...  TO 31 : Process Update & Repor   \n",
      "373            NaN     NaN  ...                             NaN   \n",
      "\n",
      "                   Subsegment Title    Sub # Bud Fee Type  Primary Client  \\\n",
      "0    Marketing                           NaN          0.0   SOUND TRANSIT   \n",
      "1    Marketing                           NaN          0.0   SOUND TRANSIT   \n",
      "2    Marketing                           NaN          0.0   SOUND TRANSIT   \n",
      "3    Marketing                           NaN          0.0   SOUND TRANSIT   \n",
      "4    Marketing                           NaN          0.0   SOUND TRANSIT   \n",
      "..                              ...      ...          ...             ...   \n",
      "369  Task 1-Project Management           NaN          1.0   SOUND TRANSIT   \n",
      "370  Task 1-Project Management           NaN          1.0   SOUND TRANSIT   \n",
      "371  Subconsultants                  59253.0          1.0   SOUND TRANSIT   \n",
      "372  PM Contingency                      NaN          1.0   SOUND TRANSIT   \n",
      "373                             NaN      NaN          NaN             NaN   \n",
      "\n",
      "    Primary Client Loc Secondary Client Secondary Client Loc  \\\n",
      "0                  1.0               --                  ---   \n",
      "1                  1.0               --                  ---   \n",
      "2                  1.0               --                  ---   \n",
      "3                  1.0               --                  ---   \n",
      "4                  1.0               --                  ---   \n",
      "..                 ...              ...                  ...   \n",
      "369                1.0               --                  ---   \n",
      "370                1.0               --                  ---   \n",
      "371                1.0               --                  ---   \n",
      "372                1.0               --                  ---   \n",
      "373                NaN              NaN                  NaN   \n",
      "\n",
      "         Market Sector  HNTB Advantage  \n",
      "0    RAIL/TRANSIT-Muni               N  \n",
      "1    RAIL/TRANSIT-Muni               N  \n",
      "2    RAIL/TRANSIT-Muni               N  \n",
      "3    RAIL/TRANSIT-Muni               N  \n",
      "4    RAIL/TRANSIT-Muni               N  \n",
      "..                 ...             ...  \n",
      "369  RAIL/TRANSIT-Muni               N  \n",
      "370  RAIL/TRANSIT-Muni               N  \n",
      "371  RAIL/TRANSIT-Muni               N  \n",
      "372  RAIL/TRANSIT-Muni               N  \n",
      "373                NaN             NaN  \n",
      "\n",
      "[374 rows x 55 columns]\n"
     ]
    }
   ],
   "source": [
    "print(df)"
   ]
  },
  {
   "cell_type": "code",
   "execution_count": 230,
   "id": "07ead2a7-4852-4213-b7a6-31aec0bece43",
   "metadata": {},
   "outputs": [],
   "source": [
    "df.to_excel('JBC_73461-11-20.xlsx', index=False)"
   ]
  },
  {
   "cell_type": "code",
   "execution_count": null,
   "id": "bccbaa10-ffe2-4b59-9474-89d5695ea14d",
   "metadata": {},
   "outputs": [],
   "source": []
  },
  {
   "cell_type": "code",
   "execution_count": null,
   "id": "655a881a-7edf-46f8-bcb0-7c837e6fc061",
   "metadata": {},
   "outputs": [],
   "source": []
  }
 ],
 "metadata": {
  "kernelspec": {
   "display_name": "Python 3 (ipykernel)",
   "language": "python",
   "name": "python3"
  },
  "language_info": {
   "codemirror_mode": {
    "name": "ipython",
    "version": 3
   },
   "file_extension": ".py",
   "mimetype": "text/x-python",
   "name": "python",
   "nbconvert_exporter": "python",
   "pygments_lexer": "ipython3",
   "version": "3.11.7"
  }
 },
 "nbformat": 4,
 "nbformat_minor": 5
}
